{
 "cells": [
  {
   "cell_type": "code",
   "execution_count": 1,
   "metadata": {},
   "outputs": [
    {
     "name": "stdout",
     "output_type": "stream",
     "text": [
      "Requirement already satisfied: tensorflow-gpu in c:\\users\\romit\\appdata\\roaming\\python\\python37\\site-packages (2.4.1)\n",
      "Requirement already satisfied: absl-py~=0.10 in c:\\users\\romit\\anaconda3\\lib\\site-packages (from tensorflow-gpu) (0.10.0)\n",
      "Requirement already satisfied: opt-einsum~=3.3.0 in c:\\users\\romit\\anaconda3\\lib\\site-packages (from tensorflow-gpu) (3.3.0)\n",
      "Requirement already satisfied: wheel~=0.35 in c:\\users\\romit\\appdata\\roaming\\python\\python37\\site-packages (from tensorflow-gpu) (0.36.2)\n",
      "Requirement already satisfied: protobuf>=3.9.2 in c:\\users\\romit\\anaconda3\\lib\\site-packages (from tensorflow-gpu) (3.13.0)\n",
      "Requirement already satisfied: flatbuffers~=1.12.0 in c:\\users\\romit\\appdata\\roaming\\python\\python37\\site-packages (from tensorflow-gpu) (1.12)\n",
      "Requirement already satisfied: keras-preprocessing~=1.1.2 in c:\\users\\romit\\anaconda3\\lib\\site-packages (from tensorflow-gpu) (1.1.2)\n",
      "Requirement already satisfied: wrapt~=1.12.1 in c:\\users\\romit\\appdata\\roaming\\python\\python37\\site-packages (from tensorflow-gpu) (1.12.1)\n",
      "Requirement already satisfied: tensorflow-estimator<2.5.0,>=2.4.0 in c:\\users\\romit\\appdata\\roaming\\python\\python37\\site-packages (from tensorflow-gpu) (2.4.0)\n",
      "Requirement already satisfied: termcolor~=1.1.0 in c:\\users\\romit\\anaconda3\\lib\\site-packages (from tensorflow-gpu) (1.1.0)\n",
      "Requirement already satisfied: tensorboard~=2.4 in c:\\users\\romit\\appdata\\roaming\\python\\python37\\site-packages (from tensorflow-gpu) (2.4.1)\n",
      "Requirement already satisfied: h5py~=2.10.0 in c:\\users\\romit\\anaconda3\\lib\\site-packages (from tensorflow-gpu) (2.10.0)\n",
      "Requirement already satisfied: six~=1.15.0 in c:\\users\\romit\\appdata\\roaming\\python\\python37\\site-packages (from tensorflow-gpu) (1.15.0)\n",
      "Requirement already satisfied: numpy~=1.19.2 in c:\\users\\romit\\appdata\\roaming\\python\\python37\\site-packages (from tensorflow-gpu) (1.19.5)\n",
      "Requirement already satisfied: astunparse~=1.6.3 in c:\\users\\romit\\anaconda3\\lib\\site-packages (from tensorflow-gpu) (1.6.3)\n",
      "Requirement already satisfied: grpcio~=1.32.0 in c:\\users\\romit\\appdata\\roaming\\python\\python37\\site-packages (from tensorflow-gpu) (1.32.0)\n",
      "Requirement already satisfied: google-pasta~=0.2 in c:\\users\\romit\\anaconda3\\lib\\site-packages (from tensorflow-gpu) (0.2.0)\n",
      "Requirement already satisfied: gast==0.3.3 in c:\\users\\romit\\appdata\\roaming\\python\\python37\\site-packages (from tensorflow-gpu) (0.3.3)\n",
      "Requirement already satisfied: typing-extensions~=3.7.4 in c:\\users\\romit\\appdata\\roaming\\python\\python37\\site-packages (from tensorflow-gpu) (3.7.4.3)\n",
      "Requirement already satisfied: setuptools in c:\\users\\romit\\anaconda3\\lib\\site-packages (from protobuf>=3.9.2->tensorflow-gpu) (45.2.0.post20200210)\n",
      "Requirement already satisfied: google-auth<2,>=1.6.3 in c:\\users\\romit\\anaconda3\\lib\\site-packages (from tensorboard~=2.4->tensorflow-gpu) (1.21.0)\n",
      "Requirement already satisfied: requests<3,>=2.21.0 in c:\\users\\romit\\appdata\\roaming\\python\\python37\\site-packages (from tensorboard~=2.4->tensorflow-gpu) (2.24.0)\n",
      "Requirement already satisfied: tensorboard-plugin-wit>=1.6.0 in c:\\users\\romit\\anaconda3\\lib\\site-packages (from tensorboard~=2.4->tensorflow-gpu) (1.7.0)\n",
      "Requirement already satisfied: markdown>=2.6.8 in c:\\users\\romit\\anaconda3\\lib\\site-packages (from tensorboard~=2.4->tensorflow-gpu) (3.2.2)\n",
      "Requirement already satisfied: google-auth-oauthlib<0.5,>=0.4.1 in c:\\users\\romit\\anaconda3\\lib\\site-packages (from tensorboard~=2.4->tensorflow-gpu) (0.4.1)\n",
      "Requirement already satisfied: werkzeug>=0.11.15 in c:\\users\\romit\\anaconda3\\lib\\site-packages (from tensorboard~=2.4->tensorflow-gpu) (1.0.0)\n",
      "Requirement already satisfied: rsa<5,>=3.1.4 in c:\\users\\romit\\anaconda3\\lib\\site-packages (from google-auth<2,>=1.6.3->tensorboard~=2.4->tensorflow-gpu) (4.6)\n",
      "Requirement already satisfied: pyasn1-modules>=0.2.1 in c:\\users\\romit\\anaconda3\\lib\\site-packages (from google-auth<2,>=1.6.3->tensorboard~=2.4->tensorflow-gpu) (0.2.8)\n",
      "Requirement already satisfied: cachetools<5.0,>=2.0.0 in c:\\users\\romit\\anaconda3\\lib\\site-packages (from google-auth<2,>=1.6.3->tensorboard~=2.4->tensorflow-gpu) (4.1.1)\n",
      "Requirement already satisfied: requests-oauthlib>=0.7.0 in c:\\users\\romit\\anaconda3\\lib\\site-packages (from google-auth-oauthlib<0.5,>=0.4.1->tensorboard~=2.4->tensorflow-gpu) (1.3.0)\n",
      "Requirement already satisfied: importlib-metadata in c:\\users\\romit\\anaconda3\\lib\\site-packages (from markdown>=2.6.8->tensorboard~=2.4->tensorflow-gpu) (1.5.0)\n",
      "Requirement already satisfied: pyasn1<0.5.0,>=0.4.6 in c:\\users\\romit\\anaconda3\\lib\\site-packages (from pyasn1-modules>=0.2.1->google-auth<2,>=1.6.3->tensorboard~=2.4->tensorflow-gpu) (0.4.8)\n",
      "Requirement already satisfied: urllib3!=1.25.0,!=1.25.1,<1.26,>=1.21.1 in c:\\users\\romit\\anaconda3\\lib\\site-packages (from requests<3,>=2.21.0->tensorboard~=2.4->tensorflow-gpu) (1.25.8)\n",
      "Requirement already satisfied: chardet<4,>=3.0.2 in c:\\users\\romit\\anaconda3\\lib\\site-packages (from requests<3,>=2.21.0->tensorboard~=2.4->tensorflow-gpu) (3.0.4)\n",
      "Requirement already satisfied: certifi>=2017.4.17 in c:\\users\\romit\\anaconda3\\lib\\site-packages (from requests<3,>=2.21.0->tensorboard~=2.4->tensorflow-gpu) (2020.6.20)\n",
      "Requirement already satisfied: idna<3,>=2.5 in c:\\users\\romit\\anaconda3\\lib\\site-packages (from requests<3,>=2.21.0->tensorboard~=2.4->tensorflow-gpu) (2.8)\n",
      "Requirement already satisfied: oauthlib>=3.0.0 in c:\\users\\romit\\anaconda3\\lib\\site-packages (from requests-oauthlib>=0.7.0->google-auth-oauthlib<0.5,>=0.4.1->tensorboard~=2.4->tensorflow-gpu) (3.1.0)\n",
      "Requirement already satisfied: zipp>=0.5 in c:\\users\\romit\\anaconda3\\lib\\site-packages (from importlib-metadata->markdown>=2.6.8->tensorboard~=2.4->tensorflow-gpu) (2.2.0)\n"
     ]
    }
   ],
   "source": [
    "!pip install --user --upgrade tensorflow-gpu"
   ]
  },
  {
   "cell_type": "code",
   "execution_count": 2,
   "metadata": {},
   "outputs": [
    {
     "name": "stdout",
     "output_type": "stream",
     "text": [
      "Requirement already satisfied: tensorflow in c:\\users\\romit\\anaconda3\\lib\\site-packages (2.0.0a0)\n",
      "Requirement already satisfied: keras in c:\\users\\romit\\anaconda3\\lib\\site-packages (2.4.3)\n",
      "Requirement already satisfied: numpy in c:\\users\\romit\\appdata\\roaming\\python\\python37\\site-packages (1.19.5)\n",
      "Collecting np_utils\n",
      "  Downloading np_utils-0.5.12.1.tar.gz (61 kB)\n",
      "Requirement already satisfied: scipy>=0.14 in c:\\users\\romit\\anaconda3\\lib\\site-packages (from keras) (1.4.1)\n",
      "Requirement already satisfied: h5py in c:\\users\\romit\\anaconda3\\lib\\site-packages (from keras) (2.10.0)\n",
      "Requirement already satisfied: pyyaml in c:\\users\\romit\\anaconda3\\lib\\site-packages (from keras) (5.3)\n",
      "Requirement already satisfied: future>=0.16 in c:\\users\\romit\\anaconda3\\lib\\site-packages (from np_utils) (0.18.2)\n",
      "Requirement already satisfied: google-pasta>=0.1.2 in c:\\users\\romit\\anaconda3\\lib\\site-packages (from tensorflow) (0.2.0)\n",
      "Requirement already satisfied: astor>=0.6.0 in c:\\users\\romit\\anaconda3\\lib\\site-packages (from tensorflow) (0.8.1)\n",
      "Requirement already satisfied: wheel>=0.26 in c:\\users\\romit\\appdata\\roaming\\python\\python37\\site-packages (from tensorflow) (0.36.2)\n",
      "Requirement already satisfied: gast>=0.2.0 in c:\\users\\romit\\appdata\\roaming\\python\\python37\\site-packages (from tensorflow) (0.3.3)\n",
      "Requirement already satisfied: absl-py>=0.7.0 in c:\\users\\romit\\anaconda3\\lib\\site-packages (from tensorflow) (0.10.0)\n",
      "Requirement already satisfied: keras-applications>=1.0.6 in c:\\users\\romit\\anaconda3\\lib\\site-packages (from tensorflow) (1.0.8)\n",
      "Requirement already satisfied: tb-nightly<1.14.0a20190302,>=1.14.0a20190301 in c:\\users\\romit\\anaconda3\\lib\\site-packages (from tensorflow) (1.14.0a20190301)\n",
      "Requirement already satisfied: protobuf>=3.6.1 in c:\\users\\romit\\anaconda3\\lib\\site-packages (from tensorflow) (3.13.0)\n",
      "Requirement already satisfied: tf-estimator-nightly<1.14.0.dev2019030116,>=1.14.0.dev2019030115 in c:\\users\\romit\\anaconda3\\lib\\site-packages (from tensorflow) (1.14.0.dev2019030115)\n",
      "Requirement already satisfied: six>=1.10.0 in c:\\users\\romit\\appdata\\roaming\\python\\python37\\site-packages (from tensorflow) (1.15.0)\n",
      "Requirement already satisfied: termcolor>=1.1.0 in c:\\users\\romit\\anaconda3\\lib\\site-packages (from tensorflow) (1.1.0)\n",
      "Requirement already satisfied: keras-preprocessing>=1.0.5 in c:\\users\\romit\\anaconda3\\lib\\site-packages (from tensorflow) (1.1.2)\n",
      "Requirement already satisfied: grpcio>=1.8.6 in c:\\users\\romit\\appdata\\roaming\\python\\python37\\site-packages (from tensorflow) (1.32.0)\n",
      "Requirement already satisfied: setuptools in c:\\users\\romit\\anaconda3\\lib\\site-packages (from protobuf>=3.6.1->tensorflow) (45.2.0.post20200210)\n",
      "Requirement already satisfied: markdown>=2.6.8 in c:\\users\\romit\\anaconda3\\lib\\site-packages (from tb-nightly<1.14.0a20190302,>=1.14.0a20190301->tensorflow) (3.2.2)\n",
      "Requirement already satisfied: werkzeug>=0.11.15 in c:\\users\\romit\\anaconda3\\lib\\site-packages (from tb-nightly<1.14.0a20190302,>=1.14.0a20190301->tensorflow) (1.0.0)\n",
      "Requirement already satisfied: importlib-metadata in c:\\users\\romit\\anaconda3\\lib\\site-packages (from markdown>=2.6.8->tb-nightly<1.14.0a20190302,>=1.14.0a20190301->tensorflow) (1.5.0)\n",
      "Requirement already satisfied: zipp>=0.5 in c:\\users\\romit\\anaconda3\\lib\\site-packages (from importlib-metadata->markdown>=2.6.8->tb-nightly<1.14.0a20190302,>=1.14.0a20190301->tensorflow) (2.2.0)\n",
      "Building wheels for collected packages: np-utils\n",
      "  Building wheel for np-utils (setup.py): started\n",
      "  Building wheel for np-utils (setup.py): finished with status 'done'\n",
      "  Created wheel for np-utils: filename=np_utils-0.5.12.1-py3-none-any.whl size=57125 sha256=18505b99c5d6b60141e215f09704ba76736c9234bf7aca74c60ca7a967b6eb4e\n",
      "  Stored in directory: c:\\users\\romit\\appdata\\local\\pip\\cache\\wheels\\8c\\4e\\ef\\095c24693723c329f4cdc1079861cdbb2487d4b41b2496a4e7\n",
      "Successfully built np-utils\n",
      "Installing collected packages: np-utils\n",
      "Successfully installed np-utils-0.5.12.1\n"
     ]
    }
   ],
   "source": [
    "\n",
    "!pip install tensorflow keras numpy np_utils\n"
   ]
  },
  {
   "cell_type": "code",
   "execution_count": 1,
   "metadata": {},
   "outputs": [],
   "source": [
    "import numpy as np\n",
    "from keras import layers\n",
    "from keras.layers import Input, Dense, Activation, ZeroPadding2D, BatchNormalization, Flatten, Conv2D\n",
    "from keras.layers import AveragePooling2D, MaxPooling2D, Dropout, GlobalMaxPooling2D, GlobalAveragePooling2D\n"
   ]
  },
  {
   "cell_type": "code",
   "execution_count": 3,
   "metadata": {},
   "outputs": [],
   "source": [
    "from keras.utils import np_utils\n",
    "import pandas as pd\n",
    "from keras.models import Sequential\n",
    "from keras.callbacks import ModelCheckpoint\n",
    "import keras.backend as K"
   ]
  },
  {
   "cell_type": "code",
   "execution_count": 4,
   "metadata": {},
   "outputs": [],
   "source": [
    "    data = pd.read_csv(\"C:\\\\Users\\\\romit\\\\Eckovation ML\\\\DevanagariHandwrittenCharacterDataset\\\\data.csv\")\n",
    "    dataset = np.array(data)\n",
    "    np.random.shuffle(dataset)\n",
    "    X = dataset\n",
    "    Y = dataset\n",
    "    X = X[:, 0:1024]\n",
    "    Y = Y[:, 1024]\n",
    "\n",
    "    X_train = X[0:70000, :]\n",
    "    X_train = X_train / 255.\n",
    "    X_test = X[70000:72001, :]\n",
    "    X_test = X_test / 255.\n",
    "\n",
    "    # Reshape\n",
    "    Y = Y.reshape(Y.shape[0], 1)\n",
    "    Y_train = Y[0:70000, :]\n",
    "    Y_train = Y_train.T\n",
    "    Y_test = Y[70000:72001, :]\n",
    "    Y_test = Y_test.T"
   ]
  },
  {
   "cell_type": "code",
   "execution_count": 5,
   "metadata": {},
   "outputs": [
    {
     "name": "stdout",
     "output_type": "stream",
     "text": [
      "number of training examples = 70000\n",
      "number of test examples = 2000\n",
      "X_train shape: (70000, 1024)\n",
      "Y_train shape: (1, 70000)\n",
      "X_test shape: (2000, 1024)\n",
      "Y_test shape: (1, 2000)\n"
     ]
    }
   ],
   "source": [
    "    print(\"number of training examples = \" + str(X_train.shape[0]))\n",
    "    print(\"number of test examples = \" + str(X_test.shape[0]))\n",
    "    print(\"X_train shape: \" + str(X_train.shape))\n",
    "    print(\"Y_train shape: \" + str(Y_train.shape))\n",
    "    print(\"X_test shape: \" + str(X_test.shape))\n",
    "    print(\"Y_test shape: \" + str(Y_test.shape))"
   ]
  },
  {
   "cell_type": "code",
   "execution_count": 6,
   "metadata": {},
   "outputs": [],
   "source": [
    "    image_x = 32\n",
    "    image_y = 32\n",
    "\n",
    "    train_y = np_utils.to_categorical(Y_train)\n",
    "    test_y = np_utils.to_categorical(Y_test)\n",
    "    train_y = train_y.reshape(train_y.shape[1], train_y.shape[2])\n",
    "    test_y = test_y.reshape(test_y.shape[1], test_y.shape[2])\n",
    "    X_train = X_train.reshape(X_train.shape[0], 32, 32, 1)\n",
    "    X_test = X_test.reshape(X_test.shape[0], 32, 32, 1)"
   ]
  },
  {
   "cell_type": "code",
   "execution_count": 7,
   "metadata": {},
   "outputs": [
    {
     "name": "stdout",
     "output_type": "stream",
     "text": [
      "X_train shape: (70000, 32, 32, 1)\n",
      "Y_train shape: (70000, 37)\n"
     ]
    }
   ],
   "source": [
    "    print(\"X_train shape: \" + str(X_train.shape))\n",
    "    print(\"Y_train shape: \" + str(train_y.shape))"
   ]
  },
  {
   "cell_type": "code",
   "execution_count": 8,
   "metadata": {},
   "outputs": [],
   "source": [
    "def keras_model(image_x,image_y):\n",
    "    num_of_classes = 37\n",
    "    model = Sequential()\n",
    "    model.add(Conv2D(filters=32, kernel_size=(5, 5), input_shape=(image_x, image_y, 1), activation='relu'))\n",
    "    model.add(MaxPooling2D(pool_size=(2, 2), strides=(2, 2), padding='same'))\n",
    "    model.add(Conv2D(64, (5, 5), activation='relu'))\n",
    "    model.add(MaxPooling2D(pool_size=(5, 5), strides=(5, 5), padding='same'))\n",
    "    model.add(Flatten())\n",
    "    model.add(Dense(num_of_classes, activation='softmax'))\n",
    "    model.compile(loss='categorical_crossentropy', optimizer='adam', metrics=['accuracy'])\n",
    "    filepath = \"devanagari.h5\"\n",
    "    checkpoint1 = ModelCheckpoint(filepath, monitor='val_acc', verbose=1, save_best_only=True, mode='max')\n",
    "    #checkpoint2 = ModelCheckpoint(filepath, monitor='val_loss', verbose=1, save_best_only=True, mode='min')\n",
    "    callbacks_list = [checkpoint1]\n",
    "\n",
    "    return model, callbacks_list"
   ]
  },
  {
   "cell_type": "code",
   "execution_count": 9,
   "metadata": {},
   "outputs": [
    {
     "name": "stdout",
     "output_type": "stream",
     "text": [
      "Epoch 1/8\n",
      "1094/1094 [==============================] - 40s 36ms/step - loss: 1.4947 - accuracy: 0.5973 - val_loss: 0.3044 - val_accuracy: 0.9075\n",
      "WARNING:tensorflow:Can save best model only with val_acc available, skipping.\n",
      "Epoch 2/8\n",
      "1094/1094 [==============================] - 41s 37ms/step - loss: 0.2426 - accuracy: 0.9285 - val_loss: 0.1933 - val_accuracy: 0.9425\n",
      "WARNING:tensorflow:Can save best model only with val_acc available, skipping.\n",
      "Epoch 3/8\n",
      "1094/1094 [==============================] - 39s 36ms/step - loss: 0.1517 - accuracy: 0.9547 - val_loss: 0.1495 - val_accuracy: 0.9595\n",
      "WARNING:tensorflow:Can save best model only with val_acc available, skipping.\n",
      "Epoch 4/8\n",
      "1094/1094 [==============================] - 43s 40ms/step - loss: 0.1107 - accuracy: 0.9673 - val_loss: 0.1191 - val_accuracy: 0.9670\n",
      "WARNING:tensorflow:Can save best model only with val_acc available, skipping.\n",
      "Epoch 5/8\n",
      "1094/1094 [==============================] - 39s 35ms/step - loss: 0.0830 - accuracy: 0.9745 - val_loss: 0.1055 - val_accuracy: 0.9685\n",
      "WARNING:tensorflow:Can save best model only with val_acc available, skipping.\n",
      "Epoch 6/8\n",
      "1094/1094 [==============================] - 38s 34ms/step - loss: 0.0687 - accuracy: 0.9790 - val_loss: 0.1131 - val_accuracy: 0.9625\n",
      "WARNING:tensorflow:Can save best model only with val_acc available, skipping.\n",
      "Epoch 7/8\n",
      "1094/1094 [==============================] - 37s 34ms/step - loss: 0.0561 - accuracy: 0.9821 - val_loss: 0.1134 - val_accuracy: 0.9710\n",
      "WARNING:tensorflow:Can save best model only with val_acc available, skipping.\n",
      "Epoch 8/8\n",
      "1094/1094 [==============================] - 36s 33ms/step - loss: 0.0432 - accuracy: 0.9861 - val_loss: 0.0841 - val_accuracy: 0.9765\n",
      "WARNING:tensorflow:Can save best model only with val_acc available, skipping.\n",
      "CNN Error: 2.35%\n"
     ]
    }
   ],
   "source": [
    "    model, callbacks_list = keras_model(image_x, image_y)\n",
    "    model.fit(X_train, train_y, validation_data=(X_test, test_y), epochs=8, batch_size=64,callbacks=callbacks_list)\n",
    "    scores = model.evaluate(X_test, test_y, verbose=0)\n",
    "    print(\"CNN Error: %.2f%%\" % (100 - scores[1] * 100))\n",
    "    model.save('devanagari.h5')\n"
   ]
  },
  {
   "cell_type": "code",
   "execution_count": null,
   "metadata": {},
   "outputs": [],
   "source": []
  },
  {
   "cell_type": "code",
   "execution_count": null,
   "metadata": {},
   "outputs": [],
   "source": []
  },
  {
   "cell_type": "code",
   "execution_count": null,
   "metadata": {},
   "outputs": [],
   "source": []
  },
  {
   "cell_type": "code",
   "execution_count": null,
   "metadata": {},
   "outputs": [],
   "source": []
  },
  {
   "cell_type": "code",
   "execution_count": null,
   "metadata": {},
   "outputs": [],
   "source": []
  }
 ],
 "metadata": {
  "kernelspec": {
   "display_name": "Python 3",
   "language": "python",
   "name": "python3"
  },
  "language_info": {
   "codemirror_mode": {
    "name": "ipython",
    "version": 3
   },
   "file_extension": ".py",
   "mimetype": "text/x-python",
   "name": "python",
   "nbconvert_exporter": "python",
   "pygments_lexer": "ipython3",
   "version": "3.7.6"
  }
 },
 "nbformat": 4,
 "nbformat_minor": 4
}
